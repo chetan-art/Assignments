{
 "cells": [
  {
   "cell_type": "code",
   "execution_count": 4,
   "metadata": {},
   "outputs": [
    {
     "name": "stdout",
     "output_type": "stream",
     "text": [
      "[{'id': 1, 'title': 'Post 1', 'body': 'some comment', 'postId': 1}, {'id': 2, 'title': 'Post 2', 'body': 'some comment', 'postId': 1}, {'id': 3, 'title': 'Post 3'}]\n"
     ]
    }
   ],
   "source": [
    "#Question1\n",
    "import requests\n",
    "url1 = \"https://my-json-server.typicode.com/typicode/demo/posts\"\n",
    "r1 = requests.get(url1)\n",
    "j1 = r1.json()\n",
    "\n",
    "url2 = \"https://my-json-server.typicode.com/typicode/demo/comments\"\n",
    "r2 = requests.get(url2)\n",
    "j2 = r2.json()\n",
    "\n",
    "counter = len(j1) if (len (j1) < len(j2)) else len(j2)\n",
    "#Merge files\n",
    "for index in range(counter):\n",
    "    if (j1[index]['id'] == j2[index]['id']):\n",
    "        j1[index].update(j2[index])\n",
    "\n",
    "print(j1)"
   ]
  },
  {
   "cell_type": "code",
   "execution_count": 39,
   "metadata": {},
   "outputs": [
    {
     "name": "stdout",
     "output_type": "stream",
     "text": [
      "72\n"
     ]
    }
   ],
   "source": [
    "#Question2\n",
    "import requests\n",
    "count = 0\n",
    "\n",
    "url = \"https://reqres.in/api/users?page=2\"\n",
    "for i in range(1,13):\n",
    "    url += str(i)\n",
    "    r = requests.get(url)\n",
    "    j = r.json()\n",
    "    count += j['per_page']\n",
    "print(count)"
   ]
  },
  {
   "cell_type": "code",
   "execution_count": null,
   "metadata": {},
   "outputs": [],
   "source": []
  },
  {
   "cell_type": "code",
   "execution_count": null,
   "metadata": {},
   "outputs": [],
   "source": []
  }
 ],
 "metadata": {
  "kernelspec": {
   "display_name": "Python 3",
   "language": "python",
   "name": "python3"
  },
  "language_info": {
   "codemirror_mode": {
    "name": "ipython",
    "version": 3
   },
   "file_extension": ".py",
   "mimetype": "text/x-python",
   "name": "python",
   "nbconvert_exporter": "python",
   "pygments_lexer": "ipython3",
   "version": "3.7.4"
  }
 },
 "nbformat": 4,
 "nbformat_minor": 4
}
