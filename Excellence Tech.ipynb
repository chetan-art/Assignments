{
 "cells": [
  {
   "cell_type": "code",
   "execution_count": 7,
   "metadata": {},
   "outputs": [],
   "source": [
    "#Question1\n",
    "import requests\n",
    "url1 = \"https://my-json-server.typicode.com/typicode/demo/comments\"\n",
    "r1 = requests.get(url1)\n",
    "j1 = r1.json()\n",
    "\n",
    "url2 = \"https://my-json-server.typicode.com/typicode/demo/posts\"\n",
    "r2 = requests.get(url2)\n",
    "j2 = r2.json()\n",
    "\n",
    "for i in j2:  \n",
    "    com_list = []\n",
    "    for j in j1:\n",
    "        if i['id'] == j['id']:\n",
    "            com_list.append(j['body'])\n",
    "            i['body'] = com_list"
   ]
  },
  {
   "cell_type": "code",
   "execution_count": 8,
   "metadata": {},
   "outputs": [
    {
     "data": {
      "text/plain": [
       "[{'id': 1, 'body': 'some comment', 'postId': 1},\n",
       " {'id': 2, 'body': 'some comment', 'postId': 1}]"
      ]
     },
     "execution_count": 8,
     "metadata": {},
     "output_type": "execute_result"
    }
   ],
   "source": [
    "j1"
   ]
  },
  {
   "cell_type": "code",
   "execution_count": 9,
   "metadata": {},
   "outputs": [
    {
     "data": {
      "text/plain": [
       "[{'id': 1, 'title': 'Post 1', 'comment': ['some comment']},\n",
       " {'id': 2, 'title': 'Post 2', 'comment': ['some comment']},\n",
       " {'id': 3, 'title': 'Post 3'}]"
      ]
     },
     "execution_count": 9,
     "metadata": {},
     "output_type": "execute_result"
    }
   ],
   "source": [
    "j2"
   ]
  },
  {
   "cell_type": "code",
   "execution_count": 9,
   "metadata": {},
   "outputs": [
    {
     "name": "stdout",
     "output_type": "stream",
     "text": [
      "72\n"
     ]
    }
   ],
   "source": [
    "#Question2\n",
    "import requests\n",
    "count = 0\n",
    "url = \"https://reqres.in/api/users?page=\"\n",
    "for i in range(1,13):\n",
    "    url += str(i)\n",
    "    r = requests.get(url)\n",
    "    j = r.json()\n",
    "    count += j['per_page']\n",
    "print(count)"
   ]
  },
  {
   "cell_type": "raw",
   "metadata": {},
   "source": [
    "https://reqres.in/api/users?page=2"
   ]
  }
 ],
 "metadata": {
  "kernelspec": {
   "display_name": "Python 3",
   "language": "python",
   "name": "python3"
  },
  "language_info": {
   "codemirror_mode": {
    "name": "ipython",
    "version": 3
   },
   "file_extension": ".py",
   "mimetype": "text/x-python",
   "name": "python",
   "nbconvert_exporter": "python",
   "pygments_lexer": "ipython3",
   "version": "3.7.4"
  }
 },
 "nbformat": 4,
 "nbformat_minor": 4
}
